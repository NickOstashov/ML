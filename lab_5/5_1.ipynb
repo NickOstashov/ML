{
 "cells": [
  {
   "cell_type": "code",
   "execution_count": 2,
   "id": "9dc504d3-9918-43e2-981d-ef7109b0acea",
   "metadata": {},
   "outputs": [],
   "source": [
    "import pandas as pd\n",
    "\n"
   ]
  },
  {
   "cell_type": "code",
   "execution_count": 3,
   "id": "6fd0828a-dcdd-40da-8ffc-c312005c55be",
   "metadata": {},
   "outputs": [],
   "source": [
    "# Загружаем данные\n",
    "train_data = pd.read_csv('Train.csv')"
   ]
  },
  {
   "cell_type": "code",
   "execution_count": 4,
   "id": "dba7120e-66ed-4af1-a0b2-4ee1afd6f6a3",
   "metadata": {},
   "outputs": [
    {
     "name": "stdout",
     "output_type": "stream",
     "text": [
      "              Area  MajorAxisLenght  MinorAxisLenght  Eccentricity  \\\n",
      "count   215.000000       215.000000       215.000000    215.000000   \n",
      "mean    832.144186        63.234226        15.305780      0.933431   \n",
      "std     839.750421        41.410531         7.555325      0.105220   \n",
      "min      32.000000         6.582800         3.712800      0.107400   \n",
      "25%     308.000000        38.618400         9.822000      0.932750   \n",
      "50%     477.000000        49.822900        14.790600      0.958400   \n",
      "75%     797.000000        64.523750        17.637850      0.984050   \n",
      "max    4086.000000       223.221800        55.172700      0.998300   \n",
      "\n",
      "       Orientation   ConvexArea   FilledArea  EulerNumber  EquivDiameter  \\\n",
      "count   215.000000   215.000000   215.000000   215.000000     215.000000   \n",
      "mean     -2.692709   901.037209   835.874419     0.069767      29.395838   \n",
      "std      22.868972   939.131627   845.117057     2.535683      14.011307   \n",
      "min     -88.452200    33.000000    32.000000   -23.000000       6.383100   \n",
      "25%      -8.690500   328.000000   308.000000     1.000000      19.802750   \n",
      "50%      -0.045800   526.000000   480.000000     1.000000      24.644200   \n",
      "75%       6.250150   828.500000   798.000000     1.000000      31.855450   \n",
      "max      89.777600  5174.000000  4087.000000     1.000000      72.128100   \n",
      "\n",
      "         Solidity      Extent   Perimeter  \n",
      "count  215.000000  215.000000  215.000000  \n",
      "mean     0.925442    0.647439  136.537595  \n",
      "std      0.062092    0.132145   86.072152  \n",
      "min      0.610500    0.269400   18.616000  \n",
      "25%      0.918600    0.565600   82.312500  \n",
      "50%      0.942200    0.661800  105.262000  \n",
      "75%      0.962550    0.754250  148.858000  \n",
      "max      0.984000    0.888900  472.390000  \n"
     ]
    }
   ],
   "source": [
    "# Выводим статистическую информацию\n",
    "print(train_data.describe())"
   ]
  },
  {
   "cell_type": "code",
   "execution_count": 5,
   "id": "03f93580-e4cb-4d0d-b7de-0af03f3171e6",
   "metadata": {},
   "outputs": [
    {
     "name": "stdout",
     "output_type": "stream",
     "text": [
      "Columns: Index(['Area', 'MajorAxisLenght', 'MinorAxisLenght', 'Eccentricity',\n",
      "       'Orientation', 'ConvexArea', 'FilledArea', 'EulerNumber',\n",
      "       'EquivDiameter', 'Solidity', 'Extent', 'Perimeter', 'Class'],\n",
      "      dtype='object')\n",
      "First few rows of data:\n",
      "     Area  MajorAxisLenght  MinorAxisLenght  Eccentricity  Orientation  \\\n",
      "0     NaN              NaN              NaN           NaN          NaN   \n",
      "1   311.0          45.6957           8.7998        0.9813      -5.7814   \n",
      "2     NaN              NaN              NaN           NaN          NaN   \n",
      "3  1690.0          69.0800          32.8673        0.8796     -15.6711   \n",
      "4     NaN              NaN              NaN           NaN          NaN   \n",
      "\n",
      "   ConvexArea  FilledArea  EulerNumber  EquivDiameter  Solidity  Extent  \\\n",
      "0         NaN         NaN          NaN            NaN       NaN     NaN   \n",
      "1       334.0       311.0          1.0        19.8992    0.9311  0.7068   \n",
      "2         NaN         NaN          NaN            NaN       NaN     NaN   \n",
      "3      1727.0      1701.0         -7.0        46.3872    0.9786  0.7207   \n",
      "4         NaN         NaN          NaN            NaN       NaN     NaN   \n",
      "\n",
      "   Perimeter           Class  \n",
      "0        NaN             NaN  \n",
      "1     91.525           wheat  \n",
      "2        NaN             NaN  \n",
      "3    166.371  sunflowerSeeds  \n",
      "4        NaN             NaN  \n"
     ]
    }
   ],
   "source": [
    "# Выводим названия столбцов\n",
    "print(\"Columns:\", train_data.columns)\n",
    "\n",
    "# Выводим несколько строк данных\n",
    "print(\"First few rows of data:\")\n",
    "print(train_data.head())"
   ]
  },
  {
   "cell_type": "code",
   "execution_count": 13,
   "id": "91d274ea-1521-4d40-a9f1-7f60a1473446",
   "metadata": {},
   "outputs": [
    {
     "name": "stdout",
     "output_type": "stream",
     "text": [
      "Area               0\n",
      "MajorAxisLenght    0\n",
      "MinorAxisLenght    0\n",
      "Eccentricity       0\n",
      "Orientation        0\n",
      "ConvexArea         0\n",
      "FilledArea         0\n",
      "EulerNumber        0\n",
      "EquivDiameter      0\n",
      "Solidity           0\n",
      "Extent             0\n",
      "Perimeter          0\n",
      "Class              0\n",
      "dtype: int64\n"
     ]
    }
   ],
   "source": [
    "# Проверяем наличие пропущенных значений\n",
    "print(train_data.isnull().sum())\n",
    "\n",
    "# Заполняем удаляем строки с NaN\n",
    "train_data = train_data.dropna()"
   ]
  },
  {
   "cell_type": "code",
   "execution_count": 14,
   "id": "05aafe57-1e2b-46d0-8a00-2385524eef8c",
   "metadata": {},
   "outputs": [],
   "source": [
    "from sklearn.preprocessing import LabelEncoder\n",
    "\n",
    "label_encoder = LabelEncoder()\n",
    "train_data['Class'] = label_encoder.fit_transform(train_data['Class'])"
   ]
  },
  {
   "cell_type": "code",
   "execution_count": 15,
   "id": "01f7b887-f523-4196-9623-378babba2d3d",
   "metadata": {},
   "outputs": [
    {
     "name": "stdout",
     "output_type": "stream",
     "text": [
      "Class              1.000000\n",
      "Solidity           0.217749\n",
      "Area               0.170209\n",
      "FilledArea         0.170035\n",
      "ConvexArea         0.163072\n",
      "MajorAxisLenght    0.153819\n",
      "EquivDiameter      0.144184\n",
      "Perimeter          0.136842\n",
      "MinorAxisLenght    0.068945\n",
      "Eccentricity       0.062760\n",
      "EulerNumber        0.059093\n",
      "Extent            -0.013353\n",
      "Orientation       -0.016109\n",
      "Name: Class, dtype: float64\n"
     ]
    }
   ],
   "source": [
    "# Выводим корреляционную матрицу\n",
    "correlation_matrix = train_data.corr()\n",
    "print(correlation_matrix['Class'].sort_values(ascending=False))"
   ]
  },
  {
   "cell_type": "code",
   "execution_count": 16,
   "id": "8cfb3bcb-2623-42de-8237-03b0bd885b07",
   "metadata": {},
   "outputs": [
    {
     "name": "stdout",
     "output_type": "stream",
     "text": [
      "Class\n",
      "2    60\n",
      "1    52\n",
      "0    52\n",
      "3    51\n",
      "Name: count, dtype: int64\n"
     ]
    }
   ],
   "source": [
    "# Распределение классов\n",
    "print(train_data['Class'].value_counts())"
   ]
  },
  {
   "cell_type": "code",
   "execution_count": 17,
   "id": "9c887a8d-a028-433d-8228-98f55bf5eb4f",
   "metadata": {},
   "outputs": [],
   "source": [
    "# Разделение данных\n",
    "X = train_data.drop('Class', axis=1)\n",
    "y = train_data['Class']"
   ]
  },
  {
   "cell_type": "code",
   "execution_count": 18,
   "id": "f0839ad3-c5bd-4b51-9328-fa12aa094953",
   "metadata": {},
   "outputs": [
    {
     "name": "stdout",
     "output_type": "stream",
     "text": [
      "KNN Accuracy: 0.9302325581395349\n",
      "Gradient Boosting Accuracy: 0.9069767441860465\n"
     ]
    }
   ],
   "source": [
    "from sklearn.model_selection import train_test_split\n",
    "from sklearn.neighbors import KNeighborsClassifier\n",
    "from sklearn.ensemble import GradientBoostingClassifier\n",
    "from sklearn.metrics import accuracy_score\n",
    "\n",
    "# Разделить данные на обучающий и тестовый наборы\n",
    "X_train, X_test, y_train, y_test = train_test_split(X, y, test_size=0.2, random_state=42)\n",
    "\n",
    "# Классификатор k-ближайших соседей\n",
    "knn = KNeighborsClassifier()\n",
    "knn.fit(X_train, y_train)\n",
    "y_pred_knn = knn.predict(X_test)\n",
    "knn_accuracy = accuracy_score(y_test, y_pred_knn)\n",
    "\n",
    "print(\"KNN Accuracy:\", knn_accuracy)\n",
    "\n",
    "# Градиентный бустинг\n",
    "gb = GradientBoostingClassifier()\n",
    "gb.fit(X_train, y_train)\n",
    "y_pred_gb = gb.predict(X_test)\n",
    "gb_accuracy = accuracy_score(y_test, y_pred_gb)\n",
    "\n",
    "print(\"Gradient Boosting Accuracy:\", gb_accuracy)"
   ]
  },
  {
   "cell_type": "code",
   "execution_count": 19,
   "id": "e77b18cd-3d0c-4d9c-881d-9ba593e56382",
   "metadata": {},
   "outputs": [
    {
     "name": "stdout",
     "output_type": "stream",
     "text": [
      "Best KNN Params: {'n_neighbors': 1}\n",
      "Best Gradient Boosting Params: {'n_estimators': 150}\n"
     ]
    }
   ],
   "source": [
    "from sklearn.model_selection import GridSearchCV\n",
    "\n",
    "# Поиск гиперпараметров для KNN\n",
    "knn_params = {'n_neighbors': range(1, 11)}\n",
    "knn_grid = GridSearchCV(KNeighborsClassifier(), knn_params, cv=5)\n",
    "knn_grid.fit(X_train, y_train)\n",
    "print(\"Best KNN Params:\", knn_grid.best_params_)\n",
    "\n",
    "# Поиск гиперпараметров для Gradient Boosting\n",
    "gb_params = {'n_estimators': [50, 100, 150]}\n",
    "gb_grid = GridSearchCV(GradientBoostingClassifier(), gb_params, cv=5)\n",
    "gb_grid.fit(X_train, y_train)\n",
    "print(\"Best Gradient Boosting Params:\", gb_grid.best_params_)"
   ]
  },
  {
   "cell_type": "code",
   "execution_count": 20,
   "id": "345a96b7-9e23-494d-a328-35f435a2cb2f",
   "metadata": {},
   "outputs": [
    {
     "name": "stdout",
     "output_type": "stream",
     "text": [
      "Best KNN Accuracy: 0.9302325581395349\n",
      "Best Gradient Boosting Accuracy: 0.9069767441860465\n"
     ]
    }
   ],
   "source": [
    "best_knn = knn_grid.best_estimator_\n",
    "best_gb = gb_grid.best_estimator_\n",
    "\n",
    "# Оценка производительности\n",
    "print(\"Best KNN Accuracy:\", accuracy_score(y_test, best_knn.predict(X_test)))\n",
    "print(\"Best Gradient Boosting Accuracy:\", accuracy_score(y_test, best_gb.predict(X_test)))"
   ]
  },
  {
   "cell_type": "code",
   "execution_count": 21,
   "id": "cffdf552-c20f-4b0f-b9fe-917754d2b9c8",
   "metadata": {},
   "outputs": [
    {
     "name": "stdout",
     "output_type": "stream",
     "text": [
      "Feature Importances:\n",
      " Perimeter          0.188735\n",
      "Extent             0.188459\n",
      "ConvexArea         0.148147\n",
      "Area               0.109187\n",
      "FilledArea         0.072224\n",
      "MajorAxisLenght    0.061717\n",
      "EquivDiameter      0.058448\n",
      "Solidity           0.058158\n",
      "EulerNumber        0.054766\n",
      "Orientation        0.031972\n",
      "Eccentricity       0.019811\n",
      "MinorAxisLenght    0.008375\n",
      "dtype: float64\n"
     ]
    }
   ],
   "source": [
    "# Важность признаков для градиентного бустинга\n",
    "feature_importances = pd.Series(best_gb.feature_importances_, index=X.columns)\n",
    "print(\"Feature Importances:\\n\", feature_importances.sort_values(ascending=False))"
   ]
  },
  {
   "cell_type": "code",
   "execution_count": 22,
   "id": "5fb1dd22-87d2-43f0-93cc-a483d08fe63c",
   "metadata": {},
   "outputs": [
    {
     "name": "stdout",
     "output_type": "stream",
     "text": [
      "Class distribution:\n",
      " Class\n",
      "2    60\n",
      "1    52\n",
      "0    52\n",
      "3    51\n",
      "Name: count, dtype: int64\n"
     ]
    }
   ],
   "source": [
    "# Описание каждого класса\n",
    "class_counts = train_data['Class'].value_counts()\n",
    "print(\"Class distribution:\\n\", class_counts)"
   ]
  },
  {
   "cell_type": "code",
   "execution_count": 23,
   "id": "3304df5d-ef76-4908-a500-b82c70669b2f",
   "metadata": {},
   "outputs": [],
   "source": [
    "# Загрузка тестовых данных\n",
    "test_data = pd.read_csv('Test.csv')"
   ]
  },
  {
   "cell_type": "code",
   "execution_count": 33,
   "id": "ed86ec41-f87b-4f57-b413-a11cc86f8582",
   "metadata": {},
   "outputs": [
    {
     "name": "stdout",
     "output_type": "stream",
     "text": [
      "Columns in train data but not in test data: set()\n",
      "Columns in test data but not in train data: {'Predicted_Class'}\n"
     ]
    },
    {
     "ename": "ValueError",
     "evalue": "The feature names should match those that were passed during fit.\nFeature names seen at fit time, yet now missing:\n- Predicted_Class\n",
     "output_type": "error",
     "traceback": [
      "\u001B[1;31m---------------------------------------------------------------------------\u001B[0m",
      "\u001B[1;31mValueError\u001B[0m                                Traceback (most recent call last)",
      "Cell \u001B[1;32mIn[33], line 14\u001B[0m\n\u001B[0;32m     11\u001B[0m test_data_aligned \u001B[38;5;241m=\u001B[39m test_data[train_columns]\n\u001B[0;32m     13\u001B[0m \u001B[38;5;66;03m# Выполним теперь преобразования и предсказание\u001B[39;00m\n\u001B[1;32m---> 14\u001B[0m test_data_imputed \u001B[38;5;241m=\u001B[39m \u001B[43mimputer\u001B[49m\u001B[38;5;241;43m.\u001B[39;49m\u001B[43mtransform\u001B[49m\u001B[43m(\u001B[49m\u001B[43mtest_data_aligned\u001B[49m\u001B[43m)\u001B[49m\n\u001B[0;32m     16\u001B[0m \u001B[38;5;66;03m# Предсказание классов после обработки NaN значений\u001B[39;00m\n\u001B[0;32m     17\u001B[0m test_predictions \u001B[38;5;241m=\u001B[39m best_gb\u001B[38;5;241m.\u001B[39mpredict(test_data_imputed)\n",
      "File \u001B[1;32m~\\AppData\\Local\\Programs\\Python\\Python312\\Lib\\site-packages\\sklearn\\utils\\_set_output.py:316\u001B[0m, in \u001B[0;36m_wrap_method_output.<locals>.wrapped\u001B[1;34m(self, X, *args, **kwargs)\u001B[0m\n\u001B[0;32m    314\u001B[0m \u001B[38;5;129m@wraps\u001B[39m(f)\n\u001B[0;32m    315\u001B[0m \u001B[38;5;28;01mdef\u001B[39;00m \u001B[38;5;21mwrapped\u001B[39m(\u001B[38;5;28mself\u001B[39m, X, \u001B[38;5;241m*\u001B[39margs, \u001B[38;5;241m*\u001B[39m\u001B[38;5;241m*\u001B[39mkwargs):\n\u001B[1;32m--> 316\u001B[0m     data_to_wrap \u001B[38;5;241m=\u001B[39m \u001B[43mf\u001B[49m\u001B[43m(\u001B[49m\u001B[38;5;28;43mself\u001B[39;49m\u001B[43m,\u001B[49m\u001B[43m \u001B[49m\u001B[43mX\u001B[49m\u001B[43m,\u001B[49m\u001B[43m \u001B[49m\u001B[38;5;241;43m*\u001B[39;49m\u001B[43margs\u001B[49m\u001B[43m,\u001B[49m\u001B[43m \u001B[49m\u001B[38;5;241;43m*\u001B[39;49m\u001B[38;5;241;43m*\u001B[39;49m\u001B[43mkwargs\u001B[49m\u001B[43m)\u001B[49m\n\u001B[0;32m    317\u001B[0m     \u001B[38;5;28;01mif\u001B[39;00m \u001B[38;5;28misinstance\u001B[39m(data_to_wrap, \u001B[38;5;28mtuple\u001B[39m):\n\u001B[0;32m    318\u001B[0m         \u001B[38;5;66;03m# only wrap the first output for cross decomposition\u001B[39;00m\n\u001B[0;32m    319\u001B[0m         return_tuple \u001B[38;5;241m=\u001B[39m (\n\u001B[0;32m    320\u001B[0m             _wrap_data_with_container(method, data_to_wrap[\u001B[38;5;241m0\u001B[39m], X, \u001B[38;5;28mself\u001B[39m),\n\u001B[0;32m    321\u001B[0m             \u001B[38;5;241m*\u001B[39mdata_to_wrap[\u001B[38;5;241m1\u001B[39m:],\n\u001B[0;32m    322\u001B[0m         )\n",
      "File \u001B[1;32m~\\AppData\\Local\\Programs\\Python\\Python312\\Lib\\site-packages\\sklearn\\impute\\_base.py:570\u001B[0m, in \u001B[0;36mSimpleImputer.transform\u001B[1;34m(self, X)\u001B[0m\n\u001B[0;32m    555\u001B[0m \u001B[38;5;250m\u001B[39m\u001B[38;5;124;03m\"\"\"Impute all missing values in `X`.\u001B[39;00m\n\u001B[0;32m    556\u001B[0m \n\u001B[0;32m    557\u001B[0m \u001B[38;5;124;03mParameters\u001B[39;00m\n\u001B[1;32m   (...)\u001B[0m\n\u001B[0;32m    566\u001B[0m \u001B[38;5;124;03m    `X` with imputed values.\u001B[39;00m\n\u001B[0;32m    567\u001B[0m \u001B[38;5;124;03m\"\"\"\u001B[39;00m\n\u001B[0;32m    568\u001B[0m check_is_fitted(\u001B[38;5;28mself\u001B[39m)\n\u001B[1;32m--> 570\u001B[0m X \u001B[38;5;241m=\u001B[39m \u001B[38;5;28;43mself\u001B[39;49m\u001B[38;5;241;43m.\u001B[39;49m\u001B[43m_validate_input\u001B[49m\u001B[43m(\u001B[49m\u001B[43mX\u001B[49m\u001B[43m,\u001B[49m\u001B[43m \u001B[49m\u001B[43min_fit\u001B[49m\u001B[38;5;241;43m=\u001B[39;49m\u001B[38;5;28;43;01mFalse\u001B[39;49;00m\u001B[43m)\u001B[49m\n\u001B[0;32m    571\u001B[0m statistics \u001B[38;5;241m=\u001B[39m \u001B[38;5;28mself\u001B[39m\u001B[38;5;241m.\u001B[39mstatistics_\n\u001B[0;32m    573\u001B[0m \u001B[38;5;28;01mif\u001B[39;00m X\u001B[38;5;241m.\u001B[39mshape[\u001B[38;5;241m1\u001B[39m] \u001B[38;5;241m!=\u001B[39m statistics\u001B[38;5;241m.\u001B[39mshape[\u001B[38;5;241m0\u001B[39m]:\n",
      "File \u001B[1;32m~\\AppData\\Local\\Programs\\Python\\Python312\\Lib\\site-packages\\sklearn\\impute\\_base.py:350\u001B[0m, in \u001B[0;36mSimpleImputer._validate_input\u001B[1;34m(self, X, in_fit)\u001B[0m\n\u001B[0;32m    348\u001B[0m         \u001B[38;5;28;01mraise\u001B[39;00m new_ve \u001B[38;5;28;01mfrom\u001B[39;00m \u001B[38;5;28;01mNone\u001B[39;00m\n\u001B[0;32m    349\u001B[0m     \u001B[38;5;28;01melse\u001B[39;00m:\n\u001B[1;32m--> 350\u001B[0m         \u001B[38;5;28;01mraise\u001B[39;00m ve\n\u001B[0;32m    352\u001B[0m \u001B[38;5;28;01mif\u001B[39;00m in_fit:\n\u001B[0;32m    353\u001B[0m     \u001B[38;5;66;03m# Use the dtype seen in `fit` for non-`fit` conversion\u001B[39;00m\n\u001B[0;32m    354\u001B[0m     \u001B[38;5;28mself\u001B[39m\u001B[38;5;241m.\u001B[39m_fit_dtype \u001B[38;5;241m=\u001B[39m X\u001B[38;5;241m.\u001B[39mdtype\n",
      "File \u001B[1;32m~\\AppData\\Local\\Programs\\Python\\Python312\\Lib\\site-packages\\sklearn\\impute\\_base.py:332\u001B[0m, in \u001B[0;36mSimpleImputer._validate_input\u001B[1;34m(self, X, in_fit)\u001B[0m\n\u001B[0;32m    329\u001B[0m     force_all_finite \u001B[38;5;241m=\u001B[39m \u001B[38;5;28;01mTrue\u001B[39;00m\n\u001B[0;32m    331\u001B[0m \u001B[38;5;28;01mtry\u001B[39;00m:\n\u001B[1;32m--> 332\u001B[0m     X \u001B[38;5;241m=\u001B[39m \u001B[38;5;28;43mself\u001B[39;49m\u001B[38;5;241;43m.\u001B[39;49m\u001B[43m_validate_data\u001B[49m\u001B[43m(\u001B[49m\n\u001B[0;32m    333\u001B[0m \u001B[43m        \u001B[49m\u001B[43mX\u001B[49m\u001B[43m,\u001B[49m\n\u001B[0;32m    334\u001B[0m \u001B[43m        \u001B[49m\u001B[43mreset\u001B[49m\u001B[38;5;241;43m=\u001B[39;49m\u001B[43min_fit\u001B[49m\u001B[43m,\u001B[49m\n\u001B[0;32m    335\u001B[0m \u001B[43m        \u001B[49m\u001B[43maccept_sparse\u001B[49m\u001B[38;5;241;43m=\u001B[39;49m\u001B[38;5;124;43m\"\u001B[39;49m\u001B[38;5;124;43mcsc\u001B[39;49m\u001B[38;5;124;43m\"\u001B[39;49m\u001B[43m,\u001B[49m\n\u001B[0;32m    336\u001B[0m \u001B[43m        \u001B[49m\u001B[43mdtype\u001B[49m\u001B[38;5;241;43m=\u001B[39;49m\u001B[43mdtype\u001B[49m\u001B[43m,\u001B[49m\n\u001B[0;32m    337\u001B[0m \u001B[43m        \u001B[49m\u001B[43mforce_writeable\u001B[49m\u001B[38;5;241;43m=\u001B[39;49m\u001B[38;5;28;43;01mTrue\u001B[39;49;00m\u001B[43m \u001B[49m\u001B[38;5;28;43;01mif\u001B[39;49;00m\u001B[43m \u001B[49m\u001B[38;5;129;43;01mnot\u001B[39;49;00m\u001B[43m \u001B[49m\u001B[43min_fit\u001B[49m\u001B[43m \u001B[49m\u001B[38;5;28;43;01melse\u001B[39;49;00m\u001B[43m \u001B[49m\u001B[38;5;28;43;01mNone\u001B[39;49;00m\u001B[43m,\u001B[49m\n\u001B[0;32m    338\u001B[0m \u001B[43m        \u001B[49m\u001B[43mforce_all_finite\u001B[49m\u001B[38;5;241;43m=\u001B[39;49m\u001B[43mforce_all_finite\u001B[49m\u001B[43m,\u001B[49m\n\u001B[0;32m    339\u001B[0m \u001B[43m        \u001B[49m\u001B[43mcopy\u001B[49m\u001B[38;5;241;43m=\u001B[39;49m\u001B[38;5;28;43mself\u001B[39;49m\u001B[38;5;241;43m.\u001B[39;49m\u001B[43mcopy\u001B[49m\u001B[43m,\u001B[49m\n\u001B[0;32m    340\u001B[0m \u001B[43m    \u001B[49m\u001B[43m)\u001B[49m\n\u001B[0;32m    341\u001B[0m \u001B[38;5;28;01mexcept\u001B[39;00m \u001B[38;5;167;01mValueError\u001B[39;00m \u001B[38;5;28;01mas\u001B[39;00m ve:\n\u001B[0;32m    342\u001B[0m     \u001B[38;5;28;01mif\u001B[39;00m \u001B[38;5;124m\"\u001B[39m\u001B[38;5;124mcould not convert\u001B[39m\u001B[38;5;124m\"\u001B[39m \u001B[38;5;129;01min\u001B[39;00m \u001B[38;5;28mstr\u001B[39m(ve):\n",
      "File \u001B[1;32m~\\AppData\\Local\\Programs\\Python\\Python312\\Lib\\site-packages\\sklearn\\base.py:608\u001B[0m, in \u001B[0;36mBaseEstimator._validate_data\u001B[1;34m(self, X, y, reset, validate_separately, cast_to_ndarray, **check_params)\u001B[0m\n\u001B[0;32m    537\u001B[0m \u001B[38;5;28;01mdef\u001B[39;00m \u001B[38;5;21m_validate_data\u001B[39m(\n\u001B[0;32m    538\u001B[0m     \u001B[38;5;28mself\u001B[39m,\n\u001B[0;32m    539\u001B[0m     X\u001B[38;5;241m=\u001B[39m\u001B[38;5;124m\"\u001B[39m\u001B[38;5;124mno_validation\u001B[39m\u001B[38;5;124m\"\u001B[39m,\n\u001B[1;32m   (...)\u001B[0m\n\u001B[0;32m    544\u001B[0m     \u001B[38;5;241m*\u001B[39m\u001B[38;5;241m*\u001B[39mcheck_params,\n\u001B[0;32m    545\u001B[0m ):\n\u001B[0;32m    546\u001B[0m \u001B[38;5;250m    \u001B[39m\u001B[38;5;124;03m\"\"\"Validate input data and set or check the `n_features_in_` attribute.\u001B[39;00m\n\u001B[0;32m    547\u001B[0m \n\u001B[0;32m    548\u001B[0m \u001B[38;5;124;03m    Parameters\u001B[39;00m\n\u001B[1;32m   (...)\u001B[0m\n\u001B[0;32m    606\u001B[0m \u001B[38;5;124;03m        validated.\u001B[39;00m\n\u001B[0;32m    607\u001B[0m \u001B[38;5;124;03m    \"\"\"\u001B[39;00m\n\u001B[1;32m--> 608\u001B[0m     \u001B[38;5;28;43mself\u001B[39;49m\u001B[38;5;241;43m.\u001B[39;49m\u001B[43m_check_feature_names\u001B[49m\u001B[43m(\u001B[49m\u001B[43mX\u001B[49m\u001B[43m,\u001B[49m\u001B[43m \u001B[49m\u001B[43mreset\u001B[49m\u001B[38;5;241;43m=\u001B[39;49m\u001B[43mreset\u001B[49m\u001B[43m)\u001B[49m\n\u001B[0;32m    610\u001B[0m     \u001B[38;5;28;01mif\u001B[39;00m y \u001B[38;5;129;01mis\u001B[39;00m \u001B[38;5;28;01mNone\u001B[39;00m \u001B[38;5;129;01mand\u001B[39;00m \u001B[38;5;28mself\u001B[39m\u001B[38;5;241m.\u001B[39m_get_tags()[\u001B[38;5;124m\"\u001B[39m\u001B[38;5;124mrequires_y\u001B[39m\u001B[38;5;124m\"\u001B[39m]:\n\u001B[0;32m    611\u001B[0m         \u001B[38;5;28;01mraise\u001B[39;00m \u001B[38;5;167;01mValueError\u001B[39;00m(\n\u001B[0;32m    612\u001B[0m             \u001B[38;5;124mf\u001B[39m\u001B[38;5;124m\"\u001B[39m\u001B[38;5;124mThis \u001B[39m\u001B[38;5;132;01m{\u001B[39;00m\u001B[38;5;28mself\u001B[39m\u001B[38;5;241m.\u001B[39m\u001B[38;5;18m__class__\u001B[39m\u001B[38;5;241m.\u001B[39m\u001B[38;5;18m__name__\u001B[39m\u001B[38;5;132;01m}\u001B[39;00m\u001B[38;5;124m estimator \u001B[39m\u001B[38;5;124m\"\u001B[39m\n\u001B[0;32m    613\u001B[0m             \u001B[38;5;124m\"\u001B[39m\u001B[38;5;124mrequires y to be passed, but the target y is None.\u001B[39m\u001B[38;5;124m\"\u001B[39m\n\u001B[0;32m    614\u001B[0m         )\n",
      "File \u001B[1;32m~\\AppData\\Local\\Programs\\Python\\Python312\\Lib\\site-packages\\sklearn\\base.py:535\u001B[0m, in \u001B[0;36mBaseEstimator._check_feature_names\u001B[1;34m(self, X, reset)\u001B[0m\n\u001B[0;32m    530\u001B[0m \u001B[38;5;28;01mif\u001B[39;00m \u001B[38;5;129;01mnot\u001B[39;00m missing_names \u001B[38;5;129;01mand\u001B[39;00m \u001B[38;5;129;01mnot\u001B[39;00m unexpected_names:\n\u001B[0;32m    531\u001B[0m     message \u001B[38;5;241m+\u001B[39m\u001B[38;5;241m=\u001B[39m (\n\u001B[0;32m    532\u001B[0m         \u001B[38;5;124m\"\u001B[39m\u001B[38;5;124mFeature names must be in the same order as they were in fit.\u001B[39m\u001B[38;5;130;01m\\n\u001B[39;00m\u001B[38;5;124m\"\u001B[39m\n\u001B[0;32m    533\u001B[0m     )\n\u001B[1;32m--> 535\u001B[0m \u001B[38;5;28;01mraise\u001B[39;00m \u001B[38;5;167;01mValueError\u001B[39;00m(message)\n",
      "\u001B[1;31mValueError\u001B[0m: The feature names should match those that were passed during fit.\nFeature names seen at fit time, yet now missing:\n- Predicted_Class\n"
     ]
    }
   ],
   "source": [
    "test_data = test_data.dropna()\n",
    "# Убедимся, что столбцы совпадают\n",
    "train_columns = X.columns\n",
    "test_columns = test_data.columns\n",
    "\n",
    "# Выведем разницу для диагностики\n",
    "print(\"Columns in train data but not in test data:\", set(train_columns) - set(test_columns))\n",
    "print(\"Columns in test data but not in train data:\", set(test_columns) - set(train_columns))\n",
    "\n",
    "# Оставим только те столбцы в test_data, которые есть в train_data\n",
    "test_data_aligned = test_data[train_columns]\n",
    "\n",
    "# Выполним теперь преобразования и предсказание\n",
    "test_data_imputed = imputer.transform(test_data_aligned)\n",
    "\n",
    "# Предсказание классов после обработки NaN значений\n",
    "test_predictions = best_gb.predict(test_data_imputed)\n",
    "test_data['Predicted_Class'] = test_predictions\n",
    "\n",
    "print(test_data['Predicted_Class'])\n"
   ]
  },
  {
   "cell_type": "code",
   "execution_count": 34,
   "id": "ef668188-15f0-43c2-826a-c3fd68d9ac99",
   "metadata": {},
   "outputs": [
    {
     "name": "stdout",
     "output_type": "stream",
     "text": [
      "Test Class Distribution:\n",
      " Predicted_Class\n",
      "2    112\n",
      "Name: count, dtype: int64\n"
     ]
    }
   ],
   "source": [
    "# Описание классов в тестовой выборке\n",
    "test_class_counts = test_data['Predicted_Class'].value_counts()\n",
    "print(\"Test Class Distribution:\\n\", test_class_counts)"
   ]
  },
  {
   "cell_type": "code",
   "execution_count": 35,
   "id": "84cfad68-757e-43f1-95ed-ecf3c466357e",
   "metadata": {},
   "outputs": [
    {
     "name": "stdout",
     "output_type": "stream",
     "text": [
      "Best KNN (scaled) Accuracy: 0.9069767441860465\n",
      "Best Gradient Boosting (scaled) Accuracy: 0.9069767441860465\n"
     ]
    }
   ],
   "source": [
    "from sklearn.preprocessing import StandardScaler\n",
    "\n",
    "# Стандартизация данных\n",
    "scaler = StandardScaler()\n",
    "X_scaled = scaler.fit_transform(X)\n",
    "\n",
    "# Разделим данные и заново выполним предыдущие шаги\n",
    "X_train_scaled, X_test_scaled, y_train_scaled, y_test_scaled = train_test_split(X_scaled, y, test_size=0.2, random_state=42)\n",
    "\n",
    "# Строим классификаторы\n",
    "best_knn.fit(X_train_scaled, y_train_scaled)\n",
    "best_gb.fit(X_train_scaled, y_train_scaled)\n",
    "\n",
    "# Оцениваем производительность\n",
    "print(\"Best KNN (scaled) Accuracy:\", accuracy_score(y_test_scaled, best_knn.predict(X_test_scaled)))\n",
    "print(\"Best Gradient Boosting (scaled) Accuracy:\", accuracy_score(y_test_scaled, best_gb.predict(X_test_scaled)))\n",
    "\n",
    "# Стандартизация тестовых данных\n",
    "test_data_scaled = scaler.transform(test_data.drop('Predicted_Class', axis=1))\n",
    "test_predictions_scaled = best_gb.predict(test_data_scaled)\n",
    "test_data['Predicted_Class_Scaled'] = test_predictions_scaled"
   ]
  },
  {
   "cell_type": "code",
   "execution_count": 36,
   "id": "15fbdebb-aba3-49bd-9527-fd4ae5eaa937",
   "metadata": {},
   "outputs": [
    {
     "name": "stdout",
     "output_type": "stream",
     "text": [
      "Original Best Accuracy:\n",
      " 0.9302325581395349\n",
      "Scaled Best Accuracy:\n",
      " 0.9069767441860465\n"
     ]
    }
   ],
   "source": [
    "# Сравнение результатов до и после стандартизации\n",
    "print(\"Original Best Accuracy:\\n\", max(knn_accuracy, gb_accuracy))\n",
    "print(\"Scaled Best Accuracy:\\n\", max(accuracy_score(y_test_scaled, best_knn.predict(X_test_scaled)), \n",
    "                                     accuracy_score(y_test_scaled, best_gb.predict(X_test_scaled))))"
   ]
  }
 ],
 "metadata": {
  "kernelspec": {
   "display_name": "Python 3 (ipykernel)",
   "language": "python",
   "name": "python3"
  },
  "language_info": {
   "codemirror_mode": {
    "name": "ipython",
    "version": 3
   },
   "file_extension": ".py",
   "mimetype": "text/x-python",
   "name": "python",
   "nbconvert_exporter": "python",
   "pygments_lexer": "ipython3",
   "version": "3.12.6"
  }
 },
 "nbformat": 4,
 "nbformat_minor": 5
}
