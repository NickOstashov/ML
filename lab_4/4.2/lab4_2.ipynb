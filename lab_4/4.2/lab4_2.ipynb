{
 "cells": [
  {
   "cell_type": "code",
   "execution_count": 40,
   "id": "fda061cc-ef72-42be-b521-0a661838ee2d",
   "metadata": {},
   "outputs": [],
   "source": [
    "import pandas as pd\n",
    "from sklearn.model_selection import train_test_split, cross_val_score, GridSearchCV\n",
    "from sklearn.linear_model import LogisticRegression\n",
    "from sklearn.metrics import classification_report\n",
    "from sklearn.svm import SVC\n",
    "from sklearn.preprocessing import StandardScaler\n",
    "from sklearn.neighbors import KNeighborsClassifier\n",
    "from sklearn.tree import DecisionTreeClassifier\n",
    "\n"
   ]
  },
  {
   "cell_type": "raw",
   "id": "12c62720-2ce8-4cb9-98f7-0df8a4fcd84c",
   "metadata": {},
   "source": [
    "Данные содержат следующие характеристики:\n",
    "1.\tPregnancies – число случаев беременности\n",
    "2.\tGlucose – концентрация глюкозы в крови\n",
    "3.\tBloodPressure – артериальное диастолическое давление (мм рт. ст.)\n",
    "4.\tSkinThickness – толщина кожной складки трехглавой мышцы (мм)\n",
    "5.\tInsulin – 2-х часовой сывороточный инсулин\n",
    "6.\tBMI – индекс массы тела\n",
    "7.\tDiabetesPedigreeFunction – числовой параметр наследственности диабета\n",
    "8.\tAge – возраст\n",
    "Outcome – целевая переменная: 1 – наличие заболевания, 0 – отсутствие\n"
   ]
  },
  {
   "cell_type": "code",
   "execution_count": 30,
   "id": "ea7c433d-7781-4192-853f-d45e53e71ff1",
   "metadata": {},
   "outputs": [
    {
     "name": "stdout",
     "output_type": "stream",
     "text": [
      "   Pregnancies  Glucose  BloodPressure  SkinThickness  Insulin   BMI  \\\n",
      "0            6      148             72             35        0  33.6   \n",
      "1            1       85             66             29        0  26.6   \n",
      "2            8      183             64              0        0  23.3   \n",
      "3            1       89             66             23       94  28.1   \n",
      "4            0      137             40             35      168  43.1   \n",
      "\n",
      "   DiabetesPedigreeFunction  Age  Outcome  \n",
      "0                     0.627   50        1  \n",
      "1                     0.351   31        0  \n",
      "2                     0.672   32        1  \n",
      "3                     0.167   21        0  \n",
      "4                     2.288   33        1  \n"
     ]
    }
   ],
   "source": [
    "# Загрузить данные\n",
    "data = pd.read_csv('diabetes.csv')\n",
    "\n",
    "# Посмотрим на первые несколько строк данных\n",
    "print(data.head())"
   ]
  },
  {
   "cell_type": "code",
   "execution_count": 31,
   "id": "bb15481f-2f7a-4c69-abb1-d675e3ce5daf",
   "metadata": {},
   "outputs": [
    {
     "name": "stdout",
     "output_type": "stream",
     "text": [
      "Outcome\n",
      "0    500\n",
      "1    268\n",
      "Name: count, dtype: int64\n"
     ]
    }
   ],
   "source": [
    "# Распределение по классам\n",
    "class_distribution = data['Outcome'].value_counts()\n",
    "print(class_distribution)"
   ]
  },
  {
   "cell_type": "code",
   "execution_count": 32,
   "id": "b582d655-5de4-4f0c-baed-78c5061ba8e8",
   "metadata": {},
   "outputs": [],
   "source": [
    "# Разделение данных на X (признаки) и y (ответы)\n",
    "X = data.drop('Outcome', axis=1)\n",
    "y = data['Outcome']\n",
    "\n",
    "# Разделение на обучающую и тестовую выборки\n",
    "X_train, X_test, y_train, y_test = train_test_split(X, y, test_size=0.2, random_state=42)"
   ]
  },
  {
   "cell_type": "code",
   "execution_count": 33,
   "id": "8fd6a608-2f1d-42b5-afe2-c6b0171415a6",
   "metadata": {},
   "outputs": [
    {
     "name": "stdout",
     "output_type": "stream",
     "text": [
      "              precision    recall  f1-score   support\n",
      "\n",
      "           0       0.81      0.79      0.80        99\n",
      "           1       0.64      0.67      0.65        55\n",
      "\n",
      "    accuracy                           0.75       154\n",
      "   macro avg       0.73      0.73      0.73       154\n",
      "weighted avg       0.75      0.75      0.75       154\n",
      "\n"
     ]
    }
   ],
   "source": [
    "# Обучение модели логистической регрессии\n",
    "logreg = LogisticRegression(max_iter=1000)\n",
    "logreg.fit(X_train, y_train)\n",
    "\n",
    "# Оценка модели\n",
    "y_pred = logreg.predict(X_test)\n",
    "print(classification_report(y_test, y_pred))"
   ]
  },
  {
   "cell_type": "code",
   "execution_count": 34,
   "id": "dadeccf6-ba6f-4eaf-a14d-54fecd13195d",
   "metadata": {},
   "outputs": [
    {
     "name": "stdout",
     "output_type": "stream",
     "text": [
      "              precision    recall  f1-score   support\n",
      "\n",
      "           0       0.81      0.81      0.81        99\n",
      "           1       0.65      0.65      0.65        55\n",
      "\n",
      "    accuracy                           0.75       154\n",
      "   macro avg       0.73      0.73      0.73       154\n",
      "weighted avg       0.75      0.75      0.75       154\n",
      "\n"
     ]
    }
   ],
   "source": [
    "# Обучение модели SVM\n",
    "svm = SVC(kernel='linear')\n",
    "svm.fit(X_train, y_train)\n",
    "\n",
    "# Оценка модели\n",
    "y_pred_svm = svm.predict(X_test)\n",
    "print(classification_report(y_test, y_pred_svm))"
   ]
  },
  {
   "cell_type": "code",
   "execution_count": 35,
   "id": "db5c6ae6-800d-40c5-b8b2-49a3c1b08169",
   "metadata": {},
   "outputs": [
    {
     "name": "stdout",
     "output_type": "stream",
     "text": [
      "              precision    recall  f1-score   support\n",
      "\n",
      "           0       0.81      0.80      0.81        99\n",
      "           1       0.65      0.67      0.66        55\n",
      "\n",
      "    accuracy                           0.75       154\n",
      "   macro avg       0.73      0.74      0.73       154\n",
      "weighted avg       0.76      0.75      0.75       154\n",
      "\n"
     ]
    }
   ],
   "source": [
    "scaler = StandardScaler()\n",
    "X_train_scaled = scaler.fit_transform(X_train)\n",
    "X_test_scaled = scaler.transform(X_test)\n",
    "\n",
    "# Обучение модели на стандартизированных данных\n",
    "logreg.fit(X_train_scaled, y_train)\n",
    "y_pred_scaled = logreg.predict(X_test_scaled)\n",
    "print(classification_report(y_test, y_pred_scaled))"
   ]
  },
  {
   "cell_type": "code",
   "execution_count": 36,
   "id": "448003f8-88d7-43fe-b79e-44402637c530",
   "metadata": {},
   "outputs": [
    {
     "name": "stdout",
     "output_type": "stream",
     "text": [
      "Average cross-validated accuracy (Logistic Regression): 0.7606290817006529\n"
     ]
    }
   ],
   "source": [
    "# Перекрестная проверка для логистической регрессии\n",
    "scores_logreg = cross_val_score(logreg, X_train_scaled, y_train, cv=5, scoring='accuracy')\n",
    "print(\"Average cross-validated accuracy (Logistic Regression):\", scores_logreg.mean())"
   ]
  },
  {
   "cell_type": "code",
   "execution_count": 37,
   "id": "5043ab6b-14fa-419c-9aa6-d9de1099e235",
   "metadata": {},
   "outputs": [
    {
     "name": "stdout",
     "output_type": "stream",
     "text": [
      "Best params for SVM: {'C': 1, 'kernel': 'rbf'}\n",
      "Best params for Logistic Regression: {'C': 10}\n"
     ]
    }
   ],
   "source": [
    "# Для SVM\n",
    "svm_param_grid = {'kernel': ['linear', 'rbf', 'poly'], 'C': [0.1, 1, 10]}\n",
    "grid_search_svm = GridSearchCV(SVC(), svm_param_grid, cv=5, scoring='accuracy')\n",
    "grid_search_svm.fit(X_train_scaled, y_train)\n",
    "\n",
    "print(\"Best params for SVM:\", grid_search_svm.best_params_)\n",
    "\n",
    "# Для логистической регрессии\n",
    "logreg_param_grid = {'C': [0.1, 1, 10]}\n",
    "grid_search_logreg = GridSearchCV(LogisticRegression(max_iter=1000), logreg_param_grid, cv=5, scoring='accuracy')\n",
    "grid_search_logreg.fit(X_train_scaled, y_train)\n",
    "\n",
    "print(\"Best params for Logistic Regression:\", grid_search_logreg.best_params_)"
   ]
  },
  {
   "cell_type": "code",
   "execution_count": 38,
   "id": "e39ca20e-6aa0-4e25-a344-4d16e1694a4b",
   "metadata": {},
   "outputs": [
    {
     "name": "stdout",
     "output_type": "stream",
     "text": [
      "Best k for KNN: {'n_neighbors': 11}\n"
     ]
    }
   ],
   "source": [
    "# Подбор k\n",
    "knn_param_grid = {'n_neighbors': range(1, 30)}\n",
    "grid_search_knn = GridSearchCV(KNeighborsClassifier(), knn_param_grid, cv=5, scoring='accuracy')\n",
    "grid_search_knn.fit(X_train_scaled, y_train)\n",
    "\n",
    "print(\"Best k for KNN:\", grid_search_knn.best_params_)"
   ]
  },
  {
   "cell_type": "code",
   "execution_count": 39,
   "id": "fb850b12-33ce-4321-8cd4-61b711292b94",
   "metadata": {},
   "outputs": [
    {
     "name": "stdout",
     "output_type": "stream",
     "text": [
      "              precision    recall  f1-score   support\n",
      "\n",
      "           0       0.83      0.76      0.79        99\n",
      "           1       0.62      0.73      0.67        55\n",
      "\n",
      "    accuracy                           0.75       154\n",
      "   macro avg       0.73      0.74      0.73       154\n",
      "weighted avg       0.76      0.75      0.75       154\n",
      "\n",
      "Best max_depth for Decision Tree: {'max_depth': 3}\n",
      "              precision    recall  f1-score   support\n",
      "\n",
      "           0       0.80      0.84      0.82        99\n",
      "           1       0.68      0.62      0.65        55\n",
      "\n",
      "    accuracy                           0.76       154\n",
      "   macro avg       0.74      0.73      0.73       154\n",
      "weighted avg       0.76      0.76      0.76       154\n",
      "\n"
     ]
    }
   ],
   "source": [
    "# Обучение модели дерева решений\n",
    "tree = DecisionTreeClassifier(random_state=42)\n",
    "tree.fit(X_train, y_train)\n",
    "\n",
    "# Оценка модели\n",
    "y_pred_tree = tree.predict(X_test)\n",
    "print(classification_report(y_test, y_pred_tree))\n",
    "\n",
    "# Подбор max_depth\n",
    "tree_param_grid = {'max_depth': range(1, 20)}\n",
    "grid_search_tree = GridSearchCV(DecisionTreeClassifier(random_state=42), tree_param_grid, cv=5, scoring='accuracy')\n",
    "grid_search_tree.fit(X_train, y_train)\n",
    "\n",
    "print(\"Best max_depth for Decision Tree:\", grid_search_tree.best_params_)\n",
    "\n",
    "# Обучение модели с оптимальным max_depth\n",
    "optimal_tree = DecisionTreeClassifier(max_depth=grid_search_tree.best_params_['max_depth'], random_state=42)\n",
    "optimal_tree.fit(X_train, y_train)\n",
    "y_pred_optimal_tree = optimal_tree.predict(X_test)\n",
    "print(classification_report(y_test, y_pred_optimal_tree))"
   ]
  },
  {
   "cell_type": "markdown",
   "id": "b2281799-ba0f-44fb-a58e-05b1d514b0bf",
   "metadata": {},
   "source": [
    "В среднем все модели справляются одинаково"
   ]
  }
 ],
 "metadata": {
  "kernelspec": {
   "display_name": "Python 3 (ipykernel)",
   "language": "python",
   "name": "python3"
  },
  "language_info": {
   "codemirror_mode": {
    "name": "ipython",
    "version": 3
   },
   "file_extension": ".py",
   "mimetype": "text/x-python",
   "name": "python",
   "nbconvert_exporter": "python",
   "pygments_lexer": "ipython3",
   "version": "3.12.6"
  }
 },
 "nbformat": 4,
 "nbformat_minor": 5
}
