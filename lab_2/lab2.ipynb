{
 "cells": [
  {
   "cell_type": "code",
   "execution_count": 1,
   "id": "f9cd088e",
   "metadata": {
    "ExecuteTime": {
     "end_time": "2024-10-31T02:27:37.419913Z",
     "start_time": "2024-10-31T02:26:17.386200Z"
    }
   },
   "outputs": [],
   "source": [
    "import pandas as pd\n",
    "import numpy as np\n",
    "import matplotlib.pyplot as plt\n",
    "import scipy.stats as stats\n",
    "from statsmodels.stats.proportion import proportions_ztest"
   ]
  },
  {
   "cell_type": "markdown",
   "id": "5d17027d",
   "metadata": {},
   "source": [
    "### Задание 1\n",
    "Загрузите датасет из файла heart.csv со следующими полями (выборка об уровне сердечных заболеваний:\n",
    "<ul>\n",
    "<li>age : Возраст\n",
    "<li>sex : Пол (1 = мужской; 0 = женский)\n",
    "<li>cp : боль в груди (0 - типичная, 1 - асимптотическая, 2 - неангинальная, 3 - нетипичная).\n",
    "<li>trestbps : кровяное давление в состоянии покоя.\n",
    "<li>chol : холестерин сыворотки в мг/дл.\n",
    "<li>fbs : уровень сахара в крови натощак > 120 мг/дл (1 = верно; 0 = неверно)\n",
    "<li>restecg : результаты электрокардиографии в состоянии покоя\n",
    "<li>thalach : максимальная частота сердечных сокращений\n",
    "<li>exang : стенокардия, вызванная физической нагрузкой (1 = да; 0 = нет)\n",
    "<li>oldpeak : депрессия ST, вызванная нагрузкой по сравнению с отдыхом.\n",
    "<li>slope : Наклон пикового сегмента ST при нагрузке.\n",
    "<li>ca : количество крупных сосудов, окрашенных флюороскопически (0–3).\n",
    "<li>thal : (3 = нормально; 6 = фиксированный дефект; 7 = обратимый дефект)\n",
    "<li>target : АГД - Диагностика заболеваний сердца (1 = да; 0 = нет)\n",
    "</ul>\n",
    "<ol>\n",
    "<li>Выведите полученный датасет на экран\n",
    "<li>Пользуясь загруженным датасетом, подтвердите или опровергните гипотезу, что доля населения, страдающего сердечными заболеваниями в городе N, превышает 46% (выведите \"да\", если это так, и \"нет\" в противном случае). Также выведите на экран полученное значение p-value, округлив его до 6 знаков после запятой.\n",
    "</ol>    "
   ]
  },
  {
   "cell_type": "code",
   "execution_count": 2,
   "id": "78753d47",
   "metadata": {
    "ExecuteTime": {
     "end_time": "2024-10-31T02:27:56.914277Z",
     "start_time": "2024-10-31T02:27:56.735679Z"
    }
   },
   "outputs": [
    {
     "name": "stdout",
     "output_type": "stream",
     "text": [
      "   age  sex  cp  trestbps  chol  fbs  restecg  thalach  exang  oldpeak  slope  \\\n",
      "0   63    1   3       145   233    1        0      150      0      2.3      0   \n",
      "1   37    1   2       130   250    0        1      187      0      3.5      0   \n",
      "2   41    0   1       130   204    0        0      172      0      1.4      2   \n",
      "3   56    1   1       120   236    0        1      178      0      0.8      2   \n",
      "4   57    0   0       120   354    0        1      163      1      0.6      2   \n",
      "\n",
      "   ca  thal  target  \n",
      "0   0     1       1  \n",
      "1   0     2       1  \n",
      "2   0     2       1  \n",
      "3   0     2       1  \n",
      "4   0     2       1  \n",
      "да\n",
      "p-value: 0.003122\n"
     ]
    }
   ],
   "source": [
    "# Загрузка датасета\n",
    "heart = pd.read_csv('heart.csv')\n",
    "\n",
    "# Вывод датасета на экран\n",
    "print(heart.head())\n",
    "\n",
    "# Проверка гипотезы\n",
    "p = 0.46  # Доля населения, страдающего сердечными заболеваниями в городе N\n",
    "n = len(heart)  # Размер выборки\n",
    "k = heart['target'].sum()  # Количество людей, страдающих сердечными заболеваниями в выборке\n",
    "\n",
    "# Вычисление тестовой статистики и p-value\n",
    "z_score, p_value = proportions_ztest(k, n, p)\n",
    "\n",
    "# Вывод результата\n",
    "if p_value < 0.05:\n",
    "    print(\"да\")\n",
    "else:\n",
    "    print(\"нет\")\n",
    "print(f\"p-value: {p_value:.6f}\")"
   ]
  },
  {
   "cell_type": "markdown",
   "id": "9f0182cc",
   "metadata": {},
   "source": [
    "### Задание 2\n",
    "Есть предположение, что среднее давление мужчин и женщин в состоянии покоя в городе N не отличается. Но некоторыми учеными была выдвинута гипотеза, что женщины имеют среднее давление выше чем мужины. Примите или опровергните альтернативную гипотезу. Для этого предварительно убедитесь, что генеральные совокупности имеют равные дисперсии и что обе выборки имеют распределение, близкое к нормальному (с помощью гистограммы). Выведите значение p-value, округлив до 6 знаков после запятой.\n"
   ]
  },
  {
   "cell_type": "code",
   "execution_count": 3,
   "id": "1937efeb",
   "metadata": {
    "ExecuteTime": {
     "end_time": "2024-10-31T02:28:04.521423Z",
     "start_time": "2024-10-31T02:28:04.051998Z"
    }
   },
   "outputs": [
    {
     "data": {
      "text/plain": "<Figure size 1200x600 with 1 Axes>",
      "image/png": "[encoded data removed]"
     },
     "metadata": {},
     "output_type": "display_data"
    },
    {
     "name": "stdout",
     "output_type": "stream",
     "text": [
      "Levene's test p-value: 0.244580\n",
      "Shapiro-Wilk test for males: p-value = 0.000107\n",
      "Shapiro-Wilk test for females: p-value = 0.006315\n",
      "t-test p-value: 0.162342\n"
     ]
    }
   ],
   "source": [
    "# Построение гистограмм для давления в состоянии покоя у мужчин и женщин\n",
    "plt.figure(figsize=(12, 6))\n",
    "plt.hist(heart[heart['sex'] == 1]['trestbps'], bins=20, alpha=0.5, label='Мужчины')\n",
    "plt.hist(heart[heart['sex'] == 0]['trestbps'], bins=20, alpha=0.5, label='Женщины')\n",
    "plt.title('Распределение давления в состоянии покоя')\n",
    "plt.xlabel('Давление в состоянии покоя (trestbps)')\n",
    "plt.ylabel('Частота')\n",
    "plt.legend()\n",
    "plt.show()\n",
    "from scipy.stats import levene\n",
    "\n",
    "male_pressure = heart[heart['sex'] == 1]['trestbps']\n",
    "female_pressure = heart[heart['sex'] == 0]['trestbps']\n",
    "\n",
    "# Проверка равенства дисперсий\n",
    "levene_stat, levene_pvalue = levene(male_pressure, female_pressure)\n",
    "print(f\"Levene's test p-value: {levene_pvalue:.6f}\")\n",
    "from scipy.stats import shapiro\n",
    "\n",
    "# Проверка нормальности\n",
    "shapiro_male = shapiro(male_pressure)\n",
    "shapiro_female = shapiro(female_pressure)\n",
    "\n",
    "print(f\"Shapiro-Wilk test for males: p-value = {shapiro_male.pvalue:.6f}\")\n",
    "print(f\"Shapiro-Wilk test for females: p-value = {shapiro_female.pvalue:.6f}\")\n",
    "# t-тест для проверки гипотезы, что среднее давление женщин выше, чем у мужчин\n",
    "t_stat, p_value = stats.ttest_ind(female_pressure, male_pressure, equal_var=True, alternative='greater')\n",
    "print(f\"t-test p-value: {p_value:.6f}\")\n"
   ]
  },
  {
   "cell_type": "markdown",
   "id": "3016ce42",
   "metadata": {},
   "source": [
    "### Задание 3\n",
    "Считается, что средний уровень холестерина среди населения старше 60 лет, равен 250. Была выдвинута гипотеза, что это не так (что она не равна 250). Примите или опровергните эту гипотезу.Выведите значени p-value."
   ]
  },
  {
   "cell_type": "code",
   "execution_count": 4,
   "id": "40a4149e",
   "metadata": {
    "ExecuteTime": {
     "end_time": "2024-10-31T02:28:09.428850Z",
     "start_time": "2024-10-31T02:28:09.331327Z"
    }
   },
   "outputs": [
    {
     "name": "stdout",
     "output_type": "stream",
     "text": [
      "p-value: 0.15876173897401408\n"
     ]
    }
   ],
   "source": [
    "# Проверка гипотезы\n",
    "result = stats.ttest_1samp(heart[heart['age'] > 60]['chol'], 250)\n",
    "\n",
    "# Вывод результата\n",
    "print(\"p-value:\", result.pvalue)"
   ]
  },
  {
   "cell_type": "markdown",
   "id": "64fd7807",
   "metadata": {},
   "source": [
    "### Задание 4\n",
    "Вычислите доверительный интервал с уровнем точности 95% для среднего значения максимальной частоты сердечных сокращений населения в городе N."
   ]
  },
  {
   "cell_type": "code",
   "execution_count": 5,
   "id": "4130cce8",
   "metadata": {
    "ExecuteTime": {
     "end_time": "2024-10-31T02:28:14.355396Z",
     "start_time": "2024-10-31T02:28:14.258354Z"
    }
   },
   "outputs": [
    {
     "name": "stdout",
     "output_type": "stream",
     "text": [
      "95% доверительный интервал для среднего значения максимальной частоты сердечных сокращений: (np.float64(147.0678125139342), np.float64(152.22591685900312))\n"
     ]
    }
   ],
   "source": [
    "from scipy.stats import norm\n",
    "\n",
    "# Вычисляем среднее значение и стандартное отклонение для максимальной частоты сердечных сокращений\n",
    "thalach_mean = heart['thalach'].mean()\n",
    "thalach_std = heart['thalach'].std(ddof=1)\n",
    "\n",
    "# Размер выборки\n",
    "n = len(heart['thalach'])\n",
    "\n",
    "# Уровень значимости (1 - 0.95)\n",
    "alpha = 0.05\n",
    "\n",
    "# Вычисляем доверительный интервал\n",
    "conf_interval = norm.interval(1 - alpha, loc=thalach_mean, scale=thalach_std / np.sqrt(n))\n",
    "\n",
    "print(f\"95% доверительный интервал для среднего значения максимальной частоты сердечных сокращений: {conf_interval}\")\n"
   ]
  }
 ],
 "metadata": {
  "kernelspec": {
   "display_name": "Python 3 (ipykernel)",
   "language": "python",
   "name": "python3"
  },
  "language_info": {
   "codemirror_mode": {
    "name": "ipython",
    "version": 3
   },
   "file_extension": ".py",
   "mimetype": "text/x-python",
   "name": "python",
   "nbconvert_exporter": "python",
   "pygments_lexer": "ipython3",
   "version": "3.12.6"
  }
 },
 "nbformat": 4,
 "nbformat_minor": 5
}
